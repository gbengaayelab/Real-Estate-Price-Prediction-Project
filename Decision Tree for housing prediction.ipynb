{
 "cells": [
  {
   "cell_type": "code",
   "execution_count": 15,
   "id": "3b3abd16",
   "metadata": {},
   "outputs": [],
   "source": [
    "import numpy as np\n",
    "from sklearn.tree import DecisionTreeClassifier\n",
    "from sklearn.model_selection import train_test_split\n",
    "from sklearn import tree\n",
    "from sklearn.metrics import accuracy_score\n",
    "import pandas as pd\n",
    "import matplotlib.pyplot as plt\n",
    "import warnings"
   ]
  },
  {
   "cell_type": "code",
   "execution_count": 16,
   "id": "4e41f714",
   "metadata": {},
   "outputs": [],
   "source": [
    "df = pd.read_csv('C:/Users/gbeng/Documents/Jupyter Codes Python Projects/Housing Price Prediction Project/Dataset/Housing_prices_kaggle/Housing.csv')"
   ]
  },
  {
   "cell_type": "code",
   "execution_count": 17,
   "id": "0ab10495",
   "metadata": {},
   "outputs": [],
   "source": [
    "X = df.drop(columns=['price']) #input dataset\n",
    "y = df['price'] #output dataset\n",
    "X_train, X_test, y_train, y_test = train_test_split(X, y, test_size=0.2)\n",
    "\n",
    "warnings.filterwarnings(\"ignore\", category=UserWarning)"
   ]
  },
  {
   "cell_type": "code",
   "execution_count": 18,
   "id": "5752fe3b",
   "metadata": {},
   "outputs": [],
   "source": [
    "model = DecisionTreeClassifier()\n",
    "# model.fit(X, y)\n",
    "model.fit(X_train, y_train)\n",
    "tree.export_graphviz(model, out_file='housing_prediction.dot',\n",
    "feature_names=['area', 'bedrooms', 'bathrooms', 'stories', 'mainroad', 'guestroom', 'basement', 'hotwaterheating', 'airconditioning', 'parking', 'prefarea', 'furnishingstatus'], \n",
    "                     class_names= sorted(y.astype(str).unique()), \n",
    "                     label = 'all',\n",
    "                     rounded = True,\n",
    "                     filled = True)\n",
    "\n",
    "\n",
    "# predictions = model.predict(X_test)\n",
    "# score = accuracy_score(y_test, predictions)\n",
    "# score"
   ]
  },
  {
   "cell_type": "code",
   "execution_count": 19,
   "id": "b7dd4b4d",
   "metadata": {},
   "outputs": [],
   "source": [
    "# predictions = model.predict([ [7420, 2, 2, 1, 0, 0, 0, 0, 1, 1, 0, 2], [3000, 3, 1, 2, 1, 1, 0, 1, 2, 1, 1, 1] ])\n",
    "# predictions"
   ]
  },
  {
   "cell_type": "code",
   "execution_count": null,
   "id": "1283691c",
   "metadata": {},
   "outputs": [],
   "source": []
  },
  {
   "cell_type": "code",
   "execution_count": 20,
   "id": "5aaf293e",
   "metadata": {},
   "outputs": [
    {
     "name": "stdout",
     "output_type": "stream",
     "text": [
      "{'area': 7420, 'bedrooms': 6, 'bathrooms': 4, 'stories': 3, 'mainroad': 1, 'guestroom': 3, 'basement': 0, 'hotwaterheating': 0, 'airconditioning': 1, 'parking': 2, 'prefarea': 1, 'furnishingstatus': 2, 'predicted_price': 13300000}\n",
      "{'area': 3000, 'bedrooms': 3, 'bathrooms': 1, 'stories': 2, 'mainroad': 1, 'guestroom': 1, 'basement': 0, 'hotwaterheating': 1, 'airconditioning': 2, 'parking': 1, 'prefarea': 1, 'furnishingstatus': 1, 'predicted_price': 3640000}\n",
      "{'area': 7330, 'bedrooms': 2, 'bathrooms': 2, 'stories': 1, 'mainroad': 1, 'guestroom': 0, 'basement': 0, 'hotwaterheating': 1, 'airconditioning': 2, 'parking': 1, 'prefarea': 1, 'furnishingstatus': 1, 'predicted_price': 3500000}\n"
     ]
    }
   ],
   "source": [
    "feature_names = ['area', 'bedrooms', 'bathrooms', 'stories', 'mainroad', 'guestroom', 'basement', 'hotwaterheating', 'airconditioning', 'parking', 'prefarea', 'furnishingstatus']\n",
    "# predictions_2 = model.predict([ [7420, 6, 4, 3, 1, 3, 0, 0, 1, 2, 1, 2], [3000, 3, 1, 2, 1, 1, 0, 1, 2, 1, 1, 1], [7330, 2, 2, 1, 1, 0, 0, 1, 2, 1, 1, 1] ], feature_names=feature_names)\n",
    "# predictions_2\n",
    "input_data = [ [7420, 6, 4, 3, 1, 3, 0, 0, 1, 2, 1, 2], [3000, 3, 1, 2, 1, 1, 0, 1, 2, 1, 1, 1], [7330, 2, 2, 1, 1, 0, 0, 1, 2, 1, 1, 1] ]\n",
    "predictions = model.predict(input_data)\n",
    "\n",
    "for i, input_row in enumerate(input_data):\n",
    "    feature_dict = dict(zip(feature_names, input_row))\n",
    "    prediction_dict = {'predicted_price': predictions[i]}\n",
    "    output_dict = {**feature_dict, **prediction_dict}\n",
    "    print(output_dict)\n",
    "#     print(i, input_row)\n"
   ]
  },
  {
   "cell_type": "code",
   "execution_count": 21,
   "id": "2fd6338e",
   "metadata": {},
   "outputs": [],
   "source": [
    "# Measure Accuracy of a Model\n"
   ]
  },
  {
   "cell_type": "code",
   "execution_count": 22,
   "id": "4b60158f",
   "metadata": {},
   "outputs": [
    {
     "data": {
      "image/png": "[encoded data removed]",
      "text/plain": [
       "<Figure size 640x480 with 1 Axes>"
      ]
     },
     "metadata": {},
     "output_type": "display_data"
    }
   ],
   "source": [
    "predictions = model.predict(input_data)\n",
    "\n",
    "predicted_prices = [prediction for prediction in predictions]\n",
    "\n",
    "fig, ax = plt.subplots()\n",
    "ax.bar(['Search 1', 'Search 2', 'Search 3'], predicted_prices)\n",
    "ax.set_xlabel('Input')\n",
    "ax.set_ylabel('Predicted Price in Millions ')\n",
    "ax.set_title('Predicted Prices for Three Search Points')\n",
    "\n",
    "plt.show()"
   ]
  },
  {
   "cell_type": "code",
   "execution_count": null,
   "id": "cd3124b8",
   "metadata": {},
   "outputs": [],
   "source": []
  },
  {
   "cell_type": "code",
   "execution_count": null,
   "id": "6a166785",
   "metadata": {},
   "outputs": [],
   "source": []
  }
 ],
 "metadata": {
  "kernelspec": {
   "display_name": "Python 3 (ipykernel)",
   "language": "python",
   "name": "python3"
  },
  "language_info": {
   "codemirror_mode": {
    "name": "ipython",
    "version": 3
   },
   "file_extension": ".py",
   "mimetype": "text/x-python",
   "name": "python",
   "nbconvert_exporter": "python",
   "pygments_lexer": "ipython3",
   "version": "3.10.9"
  }
 },
 "nbformat": 4,
 "nbformat_minor": 5
}
